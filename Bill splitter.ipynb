{
 "cells": [
  {
   "cell_type": "code",
   "execution_count": 1,
   "id": "fc6b2731-d5cf-419c-ae67-db80684cdd40",
   "metadata": {},
   "outputs": [
    {
     "name": "stdin",
     "output_type": "stream",
     "text": [
      "Enter the total bill amount: 2853839\n",
      "Enter the number of people: 6\n"
     ]
    },
    {
     "name": "stdout",
     "output_type": "stream",
     "text": [
      "each per should pay: $ 475639.83\n"
     ]
    }
   ],
   "source": [
    "total_bill = float(input(\"Enter the total bill amount:\"))\n",
    "num_people = int(input(\"Enter the number of people:\"))\n",
    "amount_per_person=total_bill/num_people\n",
    "print(\"each per should pay: $\",round(amount_per_person,2))"
   ]
  },
  {
   "cell_type": "code",
   "execution_count": null,
   "id": "c4f4d9d7-f8dc-4dfa-bfd5-164513857d69",
   "metadata": {},
   "outputs": [],
   "source": []
  }
 ],
 "metadata": {
  "kernelspec": {
   "display_name": "Python [conda env:base] *",
   "language": "python",
   "name": "conda-base-py"
  },
  "language_info": {
   "codemirror_mode": {
    "name": "ipython",
    "version": 3
   },
   "file_extension": ".py",
   "mimetype": "text/x-python",
   "name": "python",
   "nbconvert_exporter": "python",
   "pygments_lexer": "ipython3",
   "version": "3.12.7"
  }
 },
 "nbformat": 4,
 "nbformat_minor": 5
}
