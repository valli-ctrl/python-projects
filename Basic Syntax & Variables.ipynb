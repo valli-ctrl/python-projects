{
 "cells": [
  {
   "cell_type": "code",
   "execution_count": 1,
   "id": "d9006977-f837-426e-9719-f5bfeaa17c4b",
   "metadata": {},
   "outputs": [
    {
     "name": "stdout",
     "output_type": "stream",
     "text": [
      " hello python\n"
     ]
    }
   ],
   "source": [
    "print(\" hello ! , python\")"
   ]
  },
  {
   "cell_type": "code",
   "execution_count": 3,
   "id": "d208ccc0-5bec-47d2-9a6b-77951d4414bb",
   "metadata": {},
   "outputs": [
    {
     "name": "stdout",
     "output_type": "stream",
     "text": [
      " hello ! , python\n"
     ]
    }
   ],
   "source": [
    "print(\" hello ! , python\")"
   ]
  },
  {
   "cell_type": "code",
   "execution_count": 19,
   "id": "81634036-e27a-4a00-9a9f-ba67251501da",
   "metadata": {},
   "outputs": [
    {
     "name": "stdout",
     "output_type": "stream",
     "text": [
      "valli\n"
     ]
    }
   ],
   "source": [
    "name = \"valli\"\n",
    "print( name) "
   ]
  },
  {
   "cell_type": "code",
   "execution_count": 21,
   "id": "9e7f90b9-e950-4259-ad01-399fce8f4a5a",
   "metadata": {},
   "outputs": [
    {
     "name": "stdout",
     "output_type": "stream",
     "text": [
      "25\n"
     ]
    }
   ],
   "source": [
    "age =\"25\"\n",
    "print(age)"
   ]
  },
  {
   "cell_type": "code",
   "execution_count": 25,
   "id": "b3abb582-64fa-49ea-aefd-27bd5e8f8a82",
   "metadata": {},
   "outputs": [
    {
     "name": "stdout",
     "output_type": "stream",
     "text": [
      "51\n"
     ]
    }
   ],
   "source": [
    "a = 25\n",
    "b = 26\n",
    "sum = a+b\n",
    "print(sum)"
   ]
  },
  {
   "cell_type": "code",
   "execution_count": 27,
   "id": "7818e059-add3-4797-93c3-b62c014a6518",
   "metadata": {},
   "outputs": [
    {
     "name": "stdout",
     "output_type": "stream",
     "text": [
      "300\n"
     ]
    }
   ],
   "source": [
    "a=10\n",
    "b=30\n",
    "mul = a*b\n",
    "print(mul)"
   ]
  },
  {
   "cell_type": "code",
   "execution_count": 31,
   "id": "63f8876d-cfeb-4e75-98c0-4076b624aa5c",
   "metadata": {},
   "outputs": [
    {
     "name": "stdout",
     "output_type": "stream",
     "text": [
      "20.0\n"
     ]
    }
   ],
   "source": [
    "a=10\n",
    "b=20\n",
    "c=30\n",
    "average = (a+b+c)/3\n",
    "print(average)"
   ]
  },
  {
   "cell_type": "code",
   "execution_count": 33,
   "id": "7eac9a10-9f4d-4263-80aa-01b59238975e",
   "metadata": {},
   "outputs": [
    {
     "name": "stdout",
     "output_type": "stream",
     "text": [
      "<class 'int'>\n",
      "<class 'float'>\n"
     ]
    }
   ],
   "source": [
    "a = 10\n",
    "b = 10.0\n",
    "print(type(a))\n",
    "print(type(b))"
   ]
  },
  {
   "cell_type": "code",
   "execution_count": 39,
   "id": "a470c091-d35b-468f-aea6-ff17464a307b",
   "metadata": {},
   "outputs": [
    {
     "name": "stdout",
     "output_type": "stream",
     "text": [
      "<class 'str'>\n"
     ]
    }
   ],
   "source": [
    "a = \"india\"\n",
    "print(type(a))"
   ]
  },
  {
   "cell_type": "code",
   "execution_count": 47,
   "id": "081a5326-428b-413d-b764-a3e3c5cf3b1a",
   "metadata": {},
   "outputs": [
    {
     "name": "stdout",
     "output_type": "stream",
     "text": [
      "<class 'bool'>\n"
     ]
    }
   ],
   "source": [
    "result = True\n",
    "print(type(result))"
   ]
  },
  {
   "cell_type": "code",
   "execution_count": 51,
   "id": "38140abb-9146-4e8e-b106-b38ce10812cf",
   "metadata": {},
   "outputs": [
    {
     "name": "stdout",
     "output_type": "stream",
     "text": [
      "a= 10\n",
      "b= 5\n"
     ]
    }
   ],
   "source": [
    "a = 5\n",
    "b = 10\n",
    "a,b = b,a\n",
    "print(\"a=\" , a)\n",
    "print(\"b=\", b)"
   ]
  },
  {
   "cell_type": "code",
   "execution_count": 59,
   "id": "8df219f5-70c3-4006-8a7b-25c419dcdd8c",
   "metadata": {},
   "outputs": [
    {
     "name": "stdout",
     "output_type": "stream",
     "text": [
      "\n"
     ]
    }
   ],
   "source": [
    "a = \"\"\n",
    "print(a)"
   ]
  },
  {
   "cell_type": "code",
   "execution_count": 63,
   "id": "b8e7885e-ee8a-4b51-826b-937ddd81a139",
   "metadata": {},
   "outputs": [
    {
     "name": "stdout",
     "output_type": "stream",
     "text": [
      "2097121154112\n"
     ]
    }
   ],
   "source": [
    "a = \"valli\"\n",
    "print(id(a))"
   ]
  },
  {
   "cell_type": "code",
   "execution_count": 75,
   "id": "194f916c-d48c-4308-92e0-ebd6c85d503c",
   "metadata": {},
   "outputs": [
    {
     "name": "stdout",
     "output_type": "stream",
     "text": [
      "name= valli age= 25 designation= softwareengineer company= capgemini\n"
     ]
    }
   ],
   "source": [
    "name = \"valli\"\n",
    "age = \"25\"\n",
    "designation =\"softwareengineer\"\n",
    "company =\"capgemini\"\n",
    "print(\"name=\" , name ,\"age=\" , age ,\"designation=\" , designation, \"company=\" , company)"
   ]
  },
  {
   "cell_type": "code",
   "execution_count": 77,
   "id": "469ccf4d-6960-41ac-86ae-3a0392f9f65a",
   "metadata": {},
   "outputs": [
    {
     "name": "stdout",
     "output_type": "stream",
     "text": [
      "working in supply chain\n"
     ]
    }
   ],
   "source": [
    "print(\"working in supply chain\")"
   ]
  },
  {
   "cell_type": "code",
   "execution_count": 79,
   "id": "e914a6c8-5769-4cd6-8349-271cc4a9831e",
   "metadata": {},
   "outputs": [
    {
     "name": "stdout",
     "output_type": "stream",
     "text": [
      "working in supply chain\n"
     ]
    }
   ],
   "source": [
    "print('working in supply chain')"
   ]
  },
  {
   "cell_type": "code",
   "execution_count": 81,
   "id": "7548756d-dbc6-4827-9086-9a0f810bdd3f",
   "metadata": {},
   "outputs": [
    {
     "name": "stdout",
     "output_type": "stream",
     "text": [
      "This is a backslash: \\\n"
     ]
    }
   ],
   "source": [
    "print(\"This is a backslash: \\\\\")"
   ]
  },
  {
   "cell_type": "code",
   "execution_count": 83,
   "id": "69137a26-5fa8-4489-9a67-7077e30e844e",
   "metadata": {},
   "outputs": [
    {
     "name": "stdout",
     "output_type": "stream",
     "text": [
      "Hello\n",
      "world!\n"
     ]
    }
   ],
   "source": [
    "print(\"Hello\\nworld!\")"
   ]
  },
  {
   "cell_type": "code",
   "execution_count": 87,
   "id": "11ebfb2d-5233-472f-8c3b-225867bee062",
   "metadata": {},
   "outputs": [
    {
     "name": "stdout",
     "output_type": "stream",
     "text": [
      "Hello world!\n"
     ]
    }
   ],
   "source": [
    "print(\"Hello world!\")"
   ]
  },
  {
   "cell_type": "code",
   "execution_count": 89,
   "id": "4cf00bec-3a04-41c9-b664-318d67539ab6",
   "metadata": {},
   "outputs": [
    {
     "name": "stdout",
     "output_type": "stream",
     "text": [
      "Hello\n",
      "world!\n"
     ]
    }
   ],
   "source": [
    "print(\"Hello\\nworld!\")"
   ]
  },
  {
   "cell_type": "code",
   "execution_count": 93,
   "id": "2165cdf0-f418-4d27-b0f4-15b6bb9a7e73",
   "metadata": {},
   "outputs": [
    {
     "name": "stdout",
     "output_type": "stream",
     "text": [
      "10\n"
     ]
    }
   ],
   "source": [
    "x = 10\n",
    "print(x)\n",
    "del x\n"
   ]
  },
  {
   "cell_type": "code",
   "execution_count": null,
   "id": "b4187aee-a420-45eb-9298-0fd928cea18e",
   "metadata": {},
   "outputs": [],
   "source": []
  }
 ],
 "metadata": {
  "kernelspec": {
   "display_name": "Python [conda env:base] *",
   "language": "python",
   "name": "conda-base-py"
  },
  "language_info": {
   "codemirror_mode": {
    "name": "ipython",
    "version": 3
   },
   "file_extension": ".py",
   "mimetype": "text/x-python",
   "name": "python",
   "nbconvert_exporter": "python",
   "pygments_lexer": "ipython3",
   "version": "3.12.7"
  }
 },
 "nbformat": 4,
 "nbformat_minor": 5
}
