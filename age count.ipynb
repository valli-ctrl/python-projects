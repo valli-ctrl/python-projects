{
 "cells": [
  {
   "cell_type": "code",
   "execution_count": 7,
   "id": "842d9704-e0d3-49af-b77e-02b6b308ec4c",
   "metadata": {},
   "outputs": [
    {
     "name": "stdin",
     "output_type": "stream",
     "text": [
      "enter your birth year: 2000\n"
     ]
    },
    {
     "name": "stdout",
     "output_type": "stream",
     "text": [
      "\n",
      "Time left to reach age 30:\n",
      "Years : 5\n",
      "Months: 60\n",
      "Days  : 1826\n"
     ]
    }
   ],
   "source": [
    "from datetime import date\n",
    "birth_year = int(input(\"enter your birth year:\"))\n",
    "today = date.today()\n",
    "current_year = today.year\n",
    "age = current_year - birth_year\n",
    "years_left = 30 - age\n",
    "if years_left <= 0:\n",
    "    print( \"You are already 30 or older!\")\n",
    "else:\n",
    "    months_left = years_left * 12\n",
    "    days_left = int(years_left * 365.25)\n",
    "\n",
    "    print(\"\\nTime left to reach age 30:\")\n",
    "    print(\"Years :\", years_left)\n",
    "    print(\"Months:\", months_left)\n",
    "    print(\"Days  :\", days_left)\n",
    "                 "
   ]
  },
  {
   "cell_type": "code",
   "execution_count": null,
   "id": "77ffd47e-ace7-4d82-9918-a8eee093e2a0",
   "metadata": {},
   "outputs": [],
   "source": []
  }
 ],
 "metadata": {
  "kernelspec": {
   "display_name": "Python [conda env:base] *",
   "language": "python",
   "name": "conda-base-py"
  },
  "language_info": {
   "codemirror_mode": {
    "name": "ipython",
    "version": 3
   },
   "file_extension": ".py",
   "mimetype": "text/x-python",
   "name": "python",
   "nbconvert_exporter": "python",
   "pygments_lexer": "ipython3",
   "version": "3.12.7"
  }
 },
 "nbformat": 4,
 "nbformat_minor": 5
}
