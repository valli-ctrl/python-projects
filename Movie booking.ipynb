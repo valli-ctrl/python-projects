{
 "cells": [
  {
   "cell_type": "code",
   "execution_count": 1,
   "id": "f60ab9ae-e149-4d16-af1a-43fd5bbcf580",
   "metadata": {},
   "outputs": [
    {
     "name": "stdin",
     "output_type": "stream",
     "text": [
      "Enter movie name: Gunjan Saxena\n",
      "enter show time: 4 30\n",
      "enter seat number: 10A\n"
     ]
    },
    {
     "name": "stdout",
     "output_type": "stream",
     "text": [
      "\n",
      "  Booking Summary \n",
      "------------------------\n",
      "Movie Name : Gunjan Saxena\n",
      "Show Time  : 4 30\n",
      "Seat Number: 10A\n",
      "------------------------\n",
      "Enjoy your movie! \n",
      "have a wonderful day!\n"
     ]
    }
   ],
   "source": [
    "movie_name =input(\"Enter movie name:\")\n",
    "show_time =input(\"enter show time:\")\n",
    "seat_number =input(\"enter seat number:\")\n",
    "print(\"\\n  Booking Summary \")\n",
    "print(\"------------------------\")\n",
    "print(\"Movie Name : \" + movie_name)\n",
    "print(\"Show Time  : \" + show_time)\n",
    "print(\"Seat Number: \" + seat_number)\n",
    "print(\"------------------------\")\n",
    "print(\"Enjoy your movie! \")\n",
    "print(\"have a wonderful day!\")"
   ]
  },
  {
   "cell_type": "code",
   "execution_count": null,
   "id": "38b14b08-55a4-43d2-8519-28b3a829415e",
   "metadata": {},
   "outputs": [],
   "source": []
  }
 ],
 "metadata": {
  "kernelspec": {
   "display_name": "Python [conda env:base] *",
   "language": "python",
   "name": "conda-base-py"
  },
  "language_info": {
   "codemirror_mode": {
    "name": "ipython",
    "version": 3
   },
   "file_extension": ".py",
   "mimetype": "text/x-python",
   "name": "python",
   "nbconvert_exporter": "python",
   "pygments_lexer": "ipython3",
   "version": "3.12.7"
  }
 },
 "nbformat": 4,
 "nbformat_minor": 5
}
