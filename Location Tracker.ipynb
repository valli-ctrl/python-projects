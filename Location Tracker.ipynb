{
 "cells": [
  {
   "cell_type": "code",
   "execution_count": 1,
   "id": "baaf9d84-f843-4e33-bcf2-1c11179dc284",
   "metadata": {},
   "outputs": [
    {
     "name": "stdin",
     "output_type": "stream",
     "text": [
      "Enter your city name:  visakhapatnam\n",
      "Enter your state name:  Andhra pradesh\n",
      "Enter your PIN code:  530052\n"
     ]
    },
    {
     "name": "stdout",
     "output_type": "stream",
     "text": [
      "\n",
      "-------- Address Card --------\n",
      "City  :  visakhapatnam\n",
      "State :  Andhra pradesh\n",
      "PIN   :  530052\n",
      "------------------------------\n"
     ]
    }
   ],
   "source": [
    "city = input(\"Enter your city name: \")\n",
    "state = input(\"Enter your state name: \")\n",
    "pin = input(\"Enter your PIN code: \")\n",
    "print(\"\\n-------- Address Card --------\")\n",
    "print(\"City  : \" +city)\n",
    "print(\"State : \" + state)\n",
    "print(\"PIN   : \" + pin)\n",
    "print(\"------------------------------\")"
   ]
  },
  {
   "cell_type": "code",
   "execution_count": null,
   "id": "a46711b7-cc98-41e1-bdc0-0883d6fc6de5",
   "metadata": {},
   "outputs": [],
   "source": []
  }
 ],
 "metadata": {
  "kernelspec": {
   "display_name": "Python [conda env:base] *",
   "language": "python",
   "name": "conda-base-py"
  },
  "language_info": {
   "codemirror_mode": {
    "name": "ipython",
    "version": 3
   },
   "file_extension": ".py",
   "mimetype": "text/x-python",
   "name": "python",
   "nbconvert_exporter": "python",
   "pygments_lexer": "ipython3",
   "version": "3.12.7"
  }
 },
 "nbformat": 4,
 "nbformat_minor": 5
}
