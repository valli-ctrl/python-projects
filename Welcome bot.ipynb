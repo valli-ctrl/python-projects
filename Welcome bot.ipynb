{
 "cells": [
  {
   "cell_type": "code",
   "execution_count": 1,
   "id": "c961dc3d-1533-46f0-8d30-ff3aa5733dcc",
   "metadata": {},
   "outputs": [
    {
     "name": "stdin",
     "output_type": "stream",
     "text": [
      "enter your name: valli\n"
     ]
    },
    {
     "name": "stdout",
     "output_type": "stream",
     "text": [
      "\n",
      "Hello, valli! 👋\n",
      "The current time is: 16:13:47\n"
     ]
    }
   ],
   "source": [
    "import datetime\n",
    "name = input(\"enter your name:\")\n",
    "current_time = datetime.datetime.now().strftime(\"%H:%M:%S\")\n",
    "print(\"\\nHello, \" + name + \"! 👋\")\n",
    "print(\"The current time is: \" + current_time)"
   ]
  },
  {
   "cell_type": "code",
   "execution_count": null,
   "id": "d8d4ea59-c31e-4248-8663-9c3634f37a8a",
   "metadata": {},
   "outputs": [],
   "source": []
  }
 ],
 "metadata": {
  "kernelspec": {
   "display_name": "Python [conda env:base] *",
   "language": "python",
   "name": "conda-base-py"
  },
  "language_info": {
   "codemirror_mode": {
    "name": "ipython",
    "version": 3
   },
   "file_extension": ".py",
   "mimetype": "text/x-python",
   "name": "python",
   "nbconvert_exporter": "python",
   "pygments_lexer": "ipython3",
   "version": "3.12.7"
  }
 },
 "nbformat": 4,
 "nbformat_minor": 5
}
