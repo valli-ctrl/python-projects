{
 "cells": [
  {
   "cell_type": "code",
   "execution_count": 1,
   "id": "8fed9721-e165-48a0-a2d9-52a36b7a43ec",
   "metadata": {},
   "outputs": [
    {
     "name": "stdin",
     "output_type": "stream",
     "text": [
      "Enter the item name:  rice\n",
      "Enter the quantity:  25\n",
      "Enter the price per item:  1400\n"
     ]
    },
    {
     "name": "stdout",
     "output_type": "stream",
     "text": [
      "\n",
      "-------- Receipt --------\n",
      "Item Name     : rice\n",
      "Quantity      : 25\n",
      "Price per item: ₹1400.0\n",
      "Total Cost   : ₹35000.0\n",
      "--------------------------\n"
     ]
    }
   ],
   "source": [
    "item_name = input(\"Enter the item name: \")\n",
    "quantity = int(input(\"Enter the quantity: \"))\n",
    "price_per_item = float(input(\"Enter the price per item: \"))\n",
    "\n",
    "total_cost = quantity * price_per_item\n",
    "\n",
    "print(\"\\n-------- Receipt --------\")\n",
    "print(\"Item Name     :\", item_name)\n",
    "print(\"Quantity      :\", quantity)\n",
    "print(\"Price per item: ₹\" + str(round(price_per_item, 2)))\n",
    "print(\"Total Cost   : ₹\" + str(round(total_cost, 2)))\n",
    "print(\"--------------------------\")"
   ]
  },
  {
   "cell_type": "code",
   "execution_count": null,
   "id": "76bd3a9f-b290-4c8f-8191-6b13dce8082e",
   "metadata": {},
   "outputs": [],
   "source": []
  }
 ],
 "metadata": {
  "kernelspec": {
   "display_name": "Python [conda env:base] *",
   "language": "python",
   "name": "conda-base-py"
  },
  "language_info": {
   "codemirror_mode": {
    "name": "ipython",
    "version": 3
   },
   "file_extension": ".py",
   "mimetype": "text/x-python",
   "name": "python",
   "nbconvert_exporter": "python",
   "pygments_lexer": "ipython3",
   "version": "3.12.7"
  }
 },
 "nbformat": 4,
 "nbformat_minor": 5
}
